{
 "cells": [
  {
   "cell_type": "code",
   "execution_count": null,
   "id": "c7f9b13c-e0a8-4073-b9bb-fb741b66daf5",
   "metadata": {},
   "outputs": [],
   "source": []
  },
  {
   "cell_type": "code",
   "execution_count": 1,
   "id": "2ef61081-1308-4bfd-b1c0-9e8e6c88e427",
   "metadata": {},
   "outputs": [
    {
     "data": {
      "text/html": [
       "<div>\n",
       "<style scoped>\n",
       "    .dataframe tbody tr th:only-of-type {\n",
       "        vertical-align: middle;\n",
       "    }\n",
       "\n",
       "    .dataframe tbody tr th {\n",
       "        vertical-align: top;\n",
       "    }\n",
       "\n",
       "    .dataframe thead th {\n",
       "        text-align: right;\n",
       "    }\n",
       "</style>\n",
       "<table border=\"1\" class=\"dataframe\">\n",
       "  <thead>\n",
       "    <tr style=\"text-align: right;\">\n",
       "      <th></th>\n",
       "      <th>Date</th>\n",
       "      <th>Close</th>\n",
       "      <th>Movement</th>\n",
       "    </tr>\n",
       "  </thead>\n",
       "  <tbody>\n",
       "    <tr>\n",
       "      <th>0</th>\n",
       "      <td>2017-01-03</td>\n",
       "      <td>249.018509</td>\n",
       "      <td>0</td>\n",
       "    </tr>\n",
       "    <tr>\n",
       "      <th>1</th>\n",
       "      <td>2017-01-04</td>\n",
       "      <td>243.932541</td>\n",
       "      <td>0</td>\n",
       "    </tr>\n",
       "    <tr>\n",
       "      <th>2</th>\n",
       "      <td>2017-01-05</td>\n",
       "      <td>246.275513</td>\n",
       "      <td>1</td>\n",
       "    </tr>\n",
       "    <tr>\n",
       "      <th>3</th>\n",
       "      <td>2017-01-06</td>\n",
       "      <td>245.715485</td>\n",
       "      <td>0</td>\n",
       "    </tr>\n",
       "    <tr>\n",
       "      <th>4</th>\n",
       "      <td>2017-01-09</td>\n",
       "      <td>246.344086</td>\n",
       "      <td>1</td>\n",
       "    </tr>\n",
       "  </tbody>\n",
       "</table>\n",
       "</div>"
      ],
      "text/plain": [
       "         Date       Close  Movement\n",
       "0  2017-01-03  249.018509         0\n",
       "1  2017-01-04  243.932541         0\n",
       "2  2017-01-05  246.275513         1\n",
       "3  2017-01-06  245.715485         0\n",
       "4  2017-01-09  246.344086         1"
      ]
     },
     "execution_count": 1,
     "metadata": {},
     "output_type": "execute_result"
    }
   ],
   "source": [
    "import numpy as np\n",
    "import pandas as pd\n",
    "import tensorflow as tf\n",
    "from sklearn.preprocessing import MinMaxScaler\n",
    "from sklearn.model_selection import train_test_split\n",
    "from tensorflow.keras.models import Sequential\n",
    "from tensorflow.keras.layers import LSTM, Dense, Dropout\n",
    "\n",
    "# Load data\n",
    "# Replace with your data paths\n",
    "news_data = pd.read_csv(r\"C:\\Users\\marat\\Downloads\\archive (1)\\Reliance_News.csv\")  # Assumes news_data has 'sentiment_score' and 'date'\n",
    "stock_data = pd.read_csv(r\"E:\\reliance_stock_data.csv\")  # Assumes stock_data has 'date', 'close', and 'movement'\n",
    "\n",
    "# Preprocess stock data\n",
    "# Create the Movement column\n",
    "stock_data[\"Movement\"] = (stock_data[\"Close\"].diff() > 0).astype(int)\n",
    "\n",
    "\n",
    "stock_data.head()"
   ]
  },
  {
   "cell_type": "code",
   "execution_count": 2,
   "id": "21f9e26f-da09-4652-9f5e-35b4732dedd7",
   "metadata": {},
   "outputs": [
    {
     "data": {
      "text/html": [
       "<div>\n",
       "<style scoped>\n",
       "    .dataframe tbody tr th:only-of-type {\n",
       "        vertical-align: middle;\n",
       "    }\n",
       "\n",
       "    .dataframe tbody tr th {\n",
       "        vertical-align: top;\n",
       "    }\n",
       "\n",
       "    .dataframe thead th {\n",
       "        text-align: right;\n",
       "    }\n",
       "</style>\n",
       "<table border=\"1\" class=\"dataframe\">\n",
       "  <thead>\n",
       "    <tr style=\"text-align: right;\">\n",
       "      <th></th>\n",
       "      <th>Date</th>\n",
       "      <th>News</th>\n",
       "      <th>sentiment</th>\n",
       "      <th>Sentiment_Score</th>\n",
       "    </tr>\n",
       "  </thead>\n",
       "  <tbody>\n",
       "    <tr>\n",
       "      <th>0</th>\n",
       "      <td>2017-01-03</td>\n",
       "      <td>Get ready for some fund manager churning. Meen...</td>\n",
       "      <td>0.0</td>\n",
       "      <td>0.9774</td>\n",
       "    </tr>\n",
       "    <tr>\n",
       "      <th>1</th>\n",
       "      <td>2017-01-03</td>\n",
       "      <td>The Financial ExpressBharti Airtel chairman Su...</td>\n",
       "      <td>0.0</td>\n",
       "      <td>0.9134</td>\n",
       "    </tr>\n",
       "    <tr>\n",
       "      <th>2</th>\n",
       "      <td>2017-01-04</td>\n",
       "      <td>The Financial ExpressReliance Jio has announce...</td>\n",
       "      <td>1.0</td>\n",
       "      <td>0.9930</td>\n",
       "    </tr>\n",
       "    <tr>\n",
       "      <th>3</th>\n",
       "      <td>2017-01-06</td>\n",
       "      <td>MUMBAI: Reliance Retail is launching stores wh...</td>\n",
       "      <td>1.0</td>\n",
       "      <td>0.9477</td>\n",
       "    </tr>\n",
       "    <tr>\n",
       "      <th>4</th>\n",
       "      <td>2017-01-06</td>\n",
       "      <td>New Delhi: The volume of wireless broadband da...</td>\n",
       "      <td>0.0</td>\n",
       "      <td>0.9564</td>\n",
       "    </tr>\n",
       "  </tbody>\n",
       "</table>\n",
       "</div>"
      ],
      "text/plain": [
       "         Date                                               News  sentiment  \\\n",
       "0  2017-01-03  Get ready for some fund manager churning. Meen...        0.0   \n",
       "1  2017-01-03  The Financial ExpressBharti Airtel chairman Su...        0.0   \n",
       "2  2017-01-04  The Financial ExpressReliance Jio has announce...        1.0   \n",
       "3  2017-01-06  MUMBAI: Reliance Retail is launching stores wh...        1.0   \n",
       "4  2017-01-06  New Delhi: The volume of wireless broadband da...        0.0   \n",
       "\n",
       "   Sentiment_Score  \n",
       "0           0.9774  \n",
       "1           0.9134  \n",
       "2           0.9930  \n",
       "3           0.9477  \n",
       "4           0.9564  "
      ]
     },
     "execution_count": 2,
     "metadata": {},
     "output_type": "execute_result"
    }
   ],
   "source": [
    "from nltk.sentiment.vader import SentimentIntensityAnalyzer\n",
    "import pandas as pd\n",
    "import nltk\n",
    "\n",
    "# Download VADER lexicon if not already downloaded\n",
    "#nltk.download('vader_lexicon')\n",
    "\n",
    "# Initialize the SentimentIntensityAnalyzer\n",
    "sia = SentimentIntensityAnalyzer()\n",
    "\n",
    "# Calculate sentiment scores\n",
    "news_data[\"Sentiment_Score\"] = news_data[\"News\"].apply(lambda x: sia.polarity_scores(x)[\"compound\"])\n",
    "\n",
    "# Display the dataframe with sentiment scores\n",
    "news_data.head()\n"
   ]
  },
  {
   "cell_type": "code",
   "execution_count": 3,
   "id": "8ed0673b-5da6-4ea1-a765-c9da17c70cc6",
   "metadata": {},
   "outputs": [
    {
     "name": "stdout",
     "output_type": "stream",
     "text": [
      "Movement\n",
      "1    805\n",
      "0    556\n",
      "Name: count, dtype: int64\n"
     ]
    }
   ],
   "source": [
    "# Merge news and stock data\n",
    "merged_data = pd.merge(news_data, stock_data, on='Date')\n",
    "merged_data = merged_data.sort_values('Date')\n",
    "\n",
    "# Feature selection\n",
    "features = ['Sentiment_Score', 'Close']\n",
    "X = merged_data[features]\n",
    "y = merged_data['Movement']\n",
    "\n",
    "print(merged_data['Movement'].value_counts())\n"
   ]
  },
  {
   "cell_type": "code",
   "execution_count": 4,
   "id": "bbd3b7d5-641f-4b45-8a1c-6527a3c002c8",
   "metadata": {},
   "outputs": [
    {
     "name": "stdout",
     "output_type": "stream",
     "text": [
      "160\n",
      "111\n",
      "[[[0.91991982 0.1991935 ]\n",
      "  [0.99969932 0.1991935 ]\n",
      "  [0.9870208  0.1991935 ]\n",
      "  ...\n",
      "  [0.99594087 0.21044918]\n",
      "  [0.96887998 0.21044918]\n",
      "  [0.99834628 0.2031906 ]]\n",
      "\n",
      " [[0.99809572 0.18038499]\n",
      "  [0.99809572 0.18038499]\n",
      "  [0.99218241 0.18055667]\n",
      "  ...\n",
      "  [0.99879729 0.19679033]\n",
      "  [0.9771987  0.19679033]\n",
      "  [0.97499374 0.21143004]]\n",
      "\n",
      " [[0.9929341  0.19382314]\n",
      "  [0.99749436 0.19382314]\n",
      "  [0.99699323 0.19382314]\n",
      "  ...\n",
      "  [0.89225758 0.19382314]\n",
      "  [0.99789526 0.19382314]\n",
      "  [0.99834628 0.19382314]]\n",
      "\n",
      " ...\n",
      "\n",
      " [[0.9905788  0.4079261 ]\n",
      "  [0.99508895 0.40618504]\n",
      "  [0.99894763 0.3933354 ]\n",
      "  ...\n",
      "  [0.99964921 0.40270293]\n",
      "  [0.99759459 0.4028991 ]\n",
      "  [0.99794538 0.41763692]]\n",
      "\n",
      " [[0.97113505 0.05413266]\n",
      "  [0.99493861 0.05413266]\n",
      "  [0.99428715 0.05413266]\n",
      "  ...\n",
      "  [0.98150839 0.05915969]\n",
      "  [0.98892508 0.07053798]\n",
      "  [0.98997745 0.0667493 ]]\n",
      "\n",
      " [[0.15269356 0.3930657 ]\n",
      "  [0.93430218 0.40025065]\n",
      "  [0.05362065 0.41888755]\n",
      "  ...\n",
      "  [0.99604109 0.43543996]\n",
      "  [0.98672012 0.44517528]\n",
      "  [0.96301679 0.44517528]]]\n"
     ]
    }
   ],
   "source": [
    "\n",
    "# Scale features\n",
    "scaler = MinMaxScaler()\n",
    "X_scaled = scaler.fit_transform(X)\n",
    "\n",
    "# Reshape data for LSTM\n",
    "sequence_length = 10  # Use 10 days of data to predict movement\n",
    "X_sequences = []\n",
    "y_sequences = []\n",
    "\n",
    "for i in range(sequence_length, len(X_scaled)):\n",
    "    X_sequences.append(X_scaled[i-sequence_length:i])\n",
    "    y_sequences.append(y.values[i])\n",
    "\n",
    "X_sequences = np.array(X_sequences)\n",
    "y_sequences = np.array(y_sequences)\n",
    "\n",
    "# Split into train and test sets\n",
    "X_train, X_test, y_train, y_test = train_test_split(X_sequences, y_sequences, test_size=0.2, random_state=42)\n",
    "# Count of 1's\n",
    "count_1 = np.count_nonzero(y_test == 1)\n",
    "\n",
    "count_0 = np.count_nonzero(y_test == 0)\n",
    "\n",
    "print(count_1)\n",
    "print(count_0)\n",
    "print(X_test)"
   ]
  },
  {
   "cell_type": "code",
   "execution_count": 5,
   "id": "3b9ee694-d700-421c-b1a5-197955ecc012",
   "metadata": {},
   "outputs": [
    {
     "name": "stderr",
     "output_type": "stream",
     "text": [
      "C:\\python123\\Lib\\site-packages\\keras\\src\\layers\\rnn\\rnn.py:204: UserWarning: Do not pass an `input_shape`/`input_dim` argument to a layer. When using Sequential models, prefer using an `Input(shape)` object as the first layer in the model instead.\n",
      "  super().__init__(**kwargs)\n"
     ]
    },
    {
     "name": "stdout",
     "output_type": "stream",
     "text": [
      "Epoch 1/20\n",
      "\u001b[1m34/34\u001b[0m \u001b[32m━━━━━━━━━━━━━━━━━━━━\u001b[0m\u001b[37m\u001b[0m \u001b[1m7s\u001b[0m 41ms/step - accuracy: 0.5162 - loss: 0.8337 - val_accuracy: 0.4502 - val_loss: 0.6946\n",
      "Epoch 2/20\n",
      "\u001b[1m34/34\u001b[0m \u001b[32m━━━━━━━━━━━━━━━━━━━━\u001b[0m\u001b[37m\u001b[0m \u001b[1m1s\u001b[0m 17ms/step - accuracy: 0.5292 - loss: 0.8331 - val_accuracy: 0.5572 - val_loss: 0.6917\n",
      "Epoch 3/20\n",
      "\u001b[1m34/34\u001b[0m \u001b[32m━━━━━━━━━━━━━━━━━━━━\u001b[0m\u001b[37m\u001b[0m \u001b[1m1s\u001b[0m 15ms/step - accuracy: 0.5563 - loss: 0.8344 - val_accuracy: 0.5941 - val_loss: 0.6897\n",
      "Epoch 4/20\n",
      "\u001b[1m34/34\u001b[0m \u001b[32m━━━━━━━━━━━━━━━━━━━━\u001b[0m\u001b[37m\u001b[0m \u001b[1m1s\u001b[0m 17ms/step - accuracy: 0.5528 - loss: 0.8160 - val_accuracy: 0.5646 - val_loss: 0.6921\n",
      "Epoch 5/20\n",
      "\u001b[1m34/34\u001b[0m \u001b[32m━━━━━━━━━━━━━━━━━━━━\u001b[0m\u001b[37m\u001b[0m \u001b[1m1s\u001b[0m 16ms/step - accuracy: 0.4908 - loss: 0.8345 - val_accuracy: 0.5941 - val_loss: 0.6873\n",
      "Epoch 6/20\n",
      "\u001b[1m34/34\u001b[0m \u001b[32m━━━━━━━━━━━━━━━━━━━━\u001b[0m\u001b[37m\u001b[0m \u001b[1m1s\u001b[0m 18ms/step - accuracy: 0.5550 - loss: 0.8171 - val_accuracy: 0.5756 - val_loss: 0.6904\n",
      "Epoch 7/20\n",
      "\u001b[1m34/34\u001b[0m \u001b[32m━━━━━━━━━━━━━━━━━━━━\u001b[0m\u001b[37m\u001b[0m \u001b[1m1s\u001b[0m 17ms/step - accuracy: 0.4957 - loss: 0.8291 - val_accuracy: 0.6125 - val_loss: 0.6837\n",
      "Epoch 8/20\n",
      "\u001b[1m34/34\u001b[0m \u001b[32m━━━━━━━━━━━━━━━━━━━━\u001b[0m\u001b[37m\u001b[0m \u001b[1m1s\u001b[0m 17ms/step - accuracy: 0.5826 - loss: 0.8183 - val_accuracy: 0.6125 - val_loss: 0.6838\n",
      "Epoch 9/20\n",
      "\u001b[1m34/34\u001b[0m \u001b[32m━━━━━━━━━━━━━━━━━━━━\u001b[0m\u001b[37m\u001b[0m \u001b[1m1s\u001b[0m 19ms/step - accuracy: 0.5479 - loss: 0.8344 - val_accuracy: 0.6015 - val_loss: 0.6864\n",
      "Epoch 10/20\n",
      "\u001b[1m34/34\u001b[0m \u001b[32m━━━━━━━━━━━━━━━━━━━━\u001b[0m\u001b[37m\u001b[0m \u001b[1m1s\u001b[0m 19ms/step - accuracy: 0.5565 - loss: 0.8244 - val_accuracy: 0.5720 - val_loss: 0.6880\n",
      "Epoch 11/20\n",
      "\u001b[1m34/34\u001b[0m \u001b[32m━━━━━━━━━━━━━━━━━━━━\u001b[0m\u001b[37m\u001b[0m \u001b[1m1s\u001b[0m 17ms/step - accuracy: 0.5940 - loss: 0.8040 - val_accuracy: 0.5793 - val_loss: 0.6844\n",
      "Epoch 12/20\n",
      "\u001b[1m34/34\u001b[0m \u001b[32m━━━━━━━━━━━━━━━━━━━━\u001b[0m\u001b[37m\u001b[0m \u001b[1m1s\u001b[0m 17ms/step - accuracy: 0.5721 - loss: 0.8155 - val_accuracy: 0.5609 - val_loss: 0.6851\n",
      "Epoch 13/20\n",
      "\u001b[1m34/34\u001b[0m \u001b[32m━━━━━━━━━━━━━━━━━━━━\u001b[0m\u001b[37m\u001b[0m \u001b[1m1s\u001b[0m 17ms/step - accuracy: 0.5730 - loss: 0.8132 - val_accuracy: 0.5535 - val_loss: 0.6856\n",
      "Epoch 14/20\n",
      "\u001b[1m34/34\u001b[0m \u001b[32m━━━━━━━━━━━━━━━━━━━━\u001b[0m\u001b[37m\u001b[0m \u001b[1m1s\u001b[0m 17ms/step - accuracy: 0.5972 - loss: 0.8200 - val_accuracy: 0.5535 - val_loss: 0.6868\n",
      "Epoch 15/20\n",
      "\u001b[1m34/34\u001b[0m \u001b[32m━━━━━━━━━━━━━━━━━━━━\u001b[0m\u001b[37m\u001b[0m \u001b[1m1s\u001b[0m 16ms/step - accuracy: 0.5612 - loss: 0.8112 - val_accuracy: 0.5277 - val_loss: 0.6873\n",
      "Epoch 16/20\n",
      "\u001b[1m34/34\u001b[0m \u001b[32m━━━━━━━━━━━━━━━━━━━━\u001b[0m\u001b[37m\u001b[0m \u001b[1m1s\u001b[0m 17ms/step - accuracy: 0.5674 - loss: 0.8199 - val_accuracy: 0.4723 - val_loss: 0.6893\n",
      "Epoch 17/20\n",
      "\u001b[1m34/34\u001b[0m \u001b[32m━━━━━━━━━━━━━━━━━━━━\u001b[0m\u001b[37m\u001b[0m \u001b[1m1s\u001b[0m 16ms/step - accuracy: 0.5539 - loss: 0.8238 - val_accuracy: 0.5609 - val_loss: 0.6776\n",
      "Epoch 18/20\n",
      "\u001b[1m34/34\u001b[0m \u001b[32m━━━━━━━━━━━━━━━━━━━━\u001b[0m\u001b[37m\u001b[0m \u001b[1m1s\u001b[0m 18ms/step - accuracy: 0.5934 - loss: 0.8069 - val_accuracy: 0.5055 - val_loss: 0.6885\n",
      "Epoch 19/20\n",
      "\u001b[1m34/34\u001b[0m \u001b[32m━━━━━━━━━━━━━━━━━━━━\u001b[0m\u001b[37m\u001b[0m \u001b[1m1s\u001b[0m 17ms/step - accuracy: 0.5612 - loss: 0.8067 - val_accuracy: 0.4945 - val_loss: 0.6948\n",
      "Epoch 20/20\n",
      "\u001b[1m34/34\u001b[0m \u001b[32m━━━━━━━━━━━━━━━━━━━━\u001b[0m\u001b[37m\u001b[0m \u001b[1m1s\u001b[0m 17ms/step - accuracy: 0.5991 - loss: 0.8029 - val_accuracy: 0.5609 - val_loss: 0.6764\n"
     ]
    }
   ],
   "source": [
    "# Build the LSTM model\n",
    "from tensorflow.keras.layers import BatchNormalization\n",
    "\n",
    "model = Sequential([\n",
    "    LSTM(64, return_sequences=True, input_shape=(X_train.shape[1], X_train.shape[2])),\n",
    "    Dropout(0.2),\n",
    "    BatchNormalization(),\n",
    "    LSTM(64),\n",
    "    Dropout(0.2),\n",
    "    Dense(1, activation='sigmoid')\n",
    "])\n",
    "model.compile(optimizer='adam', loss='binary_crossentropy', metrics=['accuracy'])\n",
    "\n",
    "\n",
    "class_weight = {0: 1.5, 1: 1}  # Adjust the weight for class 0 to be higher\n",
    "history =model.fit(X_train, y_train, epochs=20, batch_size=32, validation_data=(X_test, y_test), class_weight=class_weight)\n"
   ]
  },
  {
   "cell_type": "code",
   "execution_count": 6,
   "id": "db8528d4-f7d9-40cc-863c-87a5b3f85f9c",
   "metadata": {},
   "outputs": [
    {
     "name": "stdout",
     "output_type": "stream",
     "text": [
      "\u001b[1m9/9\u001b[0m \u001b[32m━━━━━━━━━━━━━━━━━━━━\u001b[0m\u001b[37m\u001b[0m \u001b[1m0s\u001b[0m 8ms/step - accuracy: 0.5481 - loss: 0.6841 \n",
      "Test Loss: 0.6764176487922668, Test Accuracy: 0.5608856081962585\n"
     ]
    }
   ],
   "source": [
    "# Evaluate the model\n",
    "eval_loss, eval_accuracy = model.evaluate(X_test, y_test)\n",
    "print(f\"Test Loss: {eval_loss}, Test Accuracy: {eval_accuracy}\")\n",
    "\n"
   ]
  },
  {
   "cell_type": "code",
   "execution_count": 7,
   "id": "e46e52fd-73dc-47f4-af6e-6dc176978b1e",
   "metadata": {},
   "outputs": [
    {
     "name": "stderr",
     "output_type": "stream",
     "text": [
      "WARNING:absl:You are saving your model as an HDF5 file via `model.save()` or `keras.saving.save_model(model)`. This file format is considered legacy. We recommend using instead the native Keras format, e.g. `model.save('my_model.keras')` or `keras.saving.save_model(model, 'my_model.keras')`. \n"
     ]
    }
   ],
   "source": [
    "# Save the model\n",
    "model.save('stock_movement_lstm_model.h5')\n",
    "\n"
   ]
  },
  {
   "cell_type": "code",
   "execution_count": 8,
   "id": "3621d478-c2a1-450d-8686-f7e64641642e",
   "metadata": {},
   "outputs": [
    {
     "name": "stdout",
     "output_type": "stream",
     "text": [
      "\u001b[1m9/9\u001b[0m \u001b[32m━━━━━━━━━━━━━━━━━━━━\u001b[0m\u001b[37m\u001b[0m \u001b[1m1s\u001b[0m 62ms/step \n"
     ]
    }
   ],
   "source": [
    "# Predict\n",
    "y_pred = (model.predict(X_test) > 0.5).astype(int)"
   ]
  },
  {
   "cell_type": "code",
   "execution_count": 9,
   "id": "4e0f3eaf-f95a-4388-a111-675c2a8f86a0",
   "metadata": {},
   "outputs": [
    {
     "name": "stdout",
     "output_type": "stream",
     "text": [
      "193\n",
      "78\n"
     ]
    }
   ],
   "source": [
    "count_1 = np.count_nonzero(y_pred == 1)\n",
    "\n",
    "count_0 = np.count_nonzero(y_pred == 0)\n",
    "\n",
    "print(count_1)\n",
    "print(count_0)"
   ]
  },
  {
   "cell_type": "code",
   "execution_count": 12,
   "id": "3f71dbd5-9212-40ea-86ce-0a5d6bd28964",
   "metadata": {},
   "outputs": [
    {
     "name": "stdout",
     "output_type": "stream",
     "text": [
      "Confusion Matrix:\n",
      "[[ 35  76]\n",
      " [ 43 117]]\n",
      "Classification Report:\n",
      "              precision    recall  f1-score   support\n",
      "\n",
      "           0       0.45      0.32      0.37       111\n",
      "           1       0.61      0.73      0.66       160\n",
      "\n",
      "    accuracy                           0.56       271\n",
      "   macro avg       0.53      0.52      0.52       271\n",
      "weighted avg       0.54      0.56      0.54       271\n",
      "\n",
      "Accuracy: 0.5608856088560885\n",
      "Precision: 0.6062176165803109\n",
      "Recall: 0.73125\n",
      "F1 Score: 0.6628895184135978\n"
     ]
    }
   ],
   "source": [
    "# Predict\n",
    "\n",
    "from sklearn.metrics import classification_report, confusion_matrix, accuracy_score, precision_score, recall_score, f1_score\n",
    "\n",
    "conf_matrix=confusion_matrix(y_test, y_pred)\n",
    "# Evaluation metrics\n",
    "print(\"Confusion Matrix:\")\n",
    "\n",
    "print(confusion_matrix(y_test, y_pred))\n",
    "print(\"Classification Report:\")\n",
    "print(classification_report(y_test, y_pred))\n",
    "print(f\"Accuracy: {accuracy_score(y_test, y_pred)}\")\n",
    "print(f\"Precision: {precision_score(y_test, y_pred)}\")\n",
    "print(f\"Recall: {recall_score(y_test, y_pred)}\")\n",
    "print(f\"F1 Score: {f1_score(y_test, y_pred)}\")"
   ]
  },
  {
   "cell_type": "code",
   "execution_count": 13,
   "id": "fae380ba-7196-41f0-a467-efc017c89647",
   "metadata": {},
   "outputs": [
    {
     "data": {
      "image/png": "[encoded data removed]",
      "text/plain": [
       "<Figure size 600x400 with 2 Axes>"
      ]
     },
     "metadata": {},
     "output_type": "display_data"
    }
   ],
   "source": [
    "import matplotlib.pyplot as plt\n",
    "import seaborn as sns\n",
    "from sklearn.metrics import confusion_matrix, ConfusionMatrixDisplay\n",
    "\n",
    "\n",
    "\n",
    "# Plot heatmap\n",
    "plt.figure(figsize=(6, 4))\n",
    "sns.heatmap(conf_matrix, annot=True, fmt='d', cmap='Blues', xticklabels=['Class 0', 'Class 1'], yticklabels=['Class 0', 'Class 1'])\n",
    "plt.xlabel('Predicted')\n",
    "plt.ylabel('Actual')\n",
    "plt.title('Confusion Matrix Heatmap')\n",
    "plt.savefig(r'C:\\Users\\marat\\OneDrive\\Desktop\\2nd year\\project\\confmat.png', format='png', dpi=300)\n",
    "plt.show()\n"
   ]
  },
  {
   "cell_type": "code",
   "execution_count": null,
   "id": "f25667c1-d50b-47e4-826c-4574335059bf",
   "metadata": {},
   "outputs": [],
   "source": [
    "\n"
   ]
  },
  {
   "cell_type": "code",
   "execution_count": 15,
   "id": "830ae68c-e34e-4f8a-a8b6-276fc8e72f43",
   "metadata": {},
   "outputs": [
    {
     "name": "stdout",
     "output_type": "stream",
     "text": [
      "\u001b[1m1/1\u001b[0m \u001b[32m━━━━━━━━━━━━━━━━━━━━\u001b[0m\u001b[37m\u001b[0m \u001b[1m0s\u001b[0m 35ms/step\n",
      "\u001b[1m1/1\u001b[0m \u001b[32m━━━━━━━━━━━━━━━━━━━━\u001b[0m\u001b[37m\u001b[0m \u001b[1m0s\u001b[0m 33ms/step\n",
      "\u001b[1m1/1\u001b[0m \u001b[32m━━━━━━━━━━━━━━━━━━━━\u001b[0m\u001b[37m\u001b[0m \u001b[1m0s\u001b[0m 34ms/step"
     ]
    },
    {
     "name": "stderr",
     "output_type": "stream",
     "text": [
      "C:\\Users\\marat\\AppData\\Local\\Temp\\ipykernel_16776\\2603602501.py:9: DeprecationWarning: Conversion of an array with ndim > 0 to a scalar is deprecated, and will error in future. Ensure you extract a single element from your array before performing this operation. (Deprecated NumPy 1.25.)\n",
      "  future_predictions.append(int(next_prediction > 0.5))\n"
     ]
    },
    {
     "name": "stdout",
     "output_type": "stream",
     "text": [
      "\u001b[1m1/1\u001b[0m \u001b[32m━━━━━━━━━━━━━━━━━━━━\u001b[0m\u001b[37m\u001b[0m \u001b[1m0s\u001b[0m 35ms/step\n",
      "\u001b[1m1/1\u001b[0m \u001b[32m━━━━━━━━━━━━━━━━━━━━\u001b[0m\u001b[37m\u001b[0m \u001b[1m0s\u001b[0m 35ms/step\n",
      "\u001b[1m1/1\u001b[0m \u001b[32m━━━━━━━━━━━━━━━━━━━━\u001b[0m\u001b[37m\u001b[0m \u001b[1m0s\u001b[0m 36ms/step\n",
      "\u001b[1m1/1\u001b[0m \u001b[32m━━━━━━━━━━━━━━━━━━━━\u001b[0m\u001b[37m\u001b[0m \u001b[1m0s\u001b[0m 37ms/step\n",
      "\u001b[1m1/1\u001b[0m \u001b[32m━━━━━━━━━━━━━━━━━━━━\u001b[0m\u001b[37m\u001b[0m \u001b[1m0s\u001b[0m 35ms/step\n",
      "\u001b[1m1/1\u001b[0m \u001b[32m━━━━━━━━━━━━━━━━━━━━\u001b[0m\u001b[37m\u001b[0m \u001b[1m0s\u001b[0m 36ms/step\n",
      "\u001b[1m1/1\u001b[0m \u001b[32m━━━━━━━━━━━━━━━━━━━━\u001b[0m\u001b[37m\u001b[0m \u001b[1m0s\u001b[0m 33ms/step\n",
      "\u001b[1m1/1\u001b[0m \u001b[32m━━━━━━━━━━━━━━━━━━━━\u001b[0m\u001b[37m\u001b[0m \u001b[1m0s\u001b[0m 36ms/step\n",
      "Next 20 Days Predictions: [0, 0, 0, 0, 0, 0, 0, 0, 1, 1]\n"
     ]
    }
   ],
   "source": [
    "# Predict next 20 days\n",
    "last_sequence = X_scaled[-sequence_length:]\n",
    "future_predictions = []\n",
    "\n",
    "for _ in range(10):\n",
    "    # Reshape last_sequence for prediction\n",
    "    last_sequence_reshaped = last_sequence.reshape(1, sequence_length, -1)\n",
    "    next_prediction = model.predict(last_sequence_reshaped)\n",
    "    future_predictions.append(int(next_prediction > 0.5))\n",
    "\n",
    "    # Update the sequence with the predicted value (use the last known close price and sentiment score)\n",
    "    new_row = np.append(last_sequence[-1, :-1], next_prediction)  # Replace with better handling if additional features are needed\n",
    "    last_sequence = np.append(last_sequence[1:], new_row.reshape(1, -1), axis=0)\n",
    "\n",
    "print(\"Next 20 Days Predictions:\", future_predictions)"
   ]
  }
 ],
 "metadata": {
  "kernelspec": {
   "display_name": "Python 3 (ipykernel)",
   "language": "python",
   "name": "python3"
  },
  "language_info": {
   "codemirror_mode": {
    "name": "ipython",
    "version": 3
   },
   "file_extension": ".py",
   "mimetype": "text/x-python",
   "name": "python",
   "nbconvert_exporter": "python",
   "pygments_lexer": "ipython3",
   "version": "3.12.1"
  }
 },
 "nbformat": 4,
 "nbformat_minor": 5
}
